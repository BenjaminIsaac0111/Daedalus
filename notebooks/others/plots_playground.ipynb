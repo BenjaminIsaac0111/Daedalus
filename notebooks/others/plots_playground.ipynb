{
 "cells": [
  {
   "cell_type": "markdown",
   "metadata": {},
   "source": [
    "# Pipeline output"
   ]
  },
  {
   "cell_type": "code",
   "execution_count": null,
   "metadata": {},
   "outputs": [],
   "source": [
    "import datetime\n",
    "import matplotlib.pyplot as plt\n",
    "import numpy as np\n",
    "import pandas as pd\n",
    "from pathlib import Path\n",
    "import time"
   ]
  },
  {
   "cell_type": "markdown",
   "metadata": {},
   "source": [
    "## Output simulation"
   ]
  },
  {
   "cell_type": "code",
   "execution_count": null,
   "metadata": {},
   "outputs": [],
   "source": [
    "pop = pd.read_csv('../output/E08000032/ssm_E08000032_MSOA11_ppp_2011_simulation.csv')"
   ]
  },
  {
   "cell_type": "code",
   "execution_count": null,
   "metadata": {},
   "outputs": [],
   "source": [
    "# print some summary stats on the simulation\n",
    "print('alive', len(pop[pop['alive'] == 'alive']))\n",
    "print('dead', len(pop[pop['alive'] == 'dead']))\n",
    "print('emigrated', len(pop[pop['alive'] == 'emigrated']))\n",
    "print('internal migration', len(pop[pop['internal_outmigration'] == 'Yes']))\n",
    "print('New children', len(pop[pop['parent_id'] != -1]))\n",
    "print('Immigrants', len(pop[pop['immigrated'].astype(str) == 'Yes']))"
   ]
  },
  {
   "cell_type": "markdown",
   "metadata": {},
   "source": [
    "## Mortality"
   ]
  },
  {
   "cell_type": "code",
   "execution_count": null,
   "metadata": {},
   "outputs": [],
   "source": [
    "#min_time = pop[\"entrance_time\"].min().strftime(\"%Y-%m-%d\")\n",
    "min_time = \"2011-01-01\"\n",
    "max_time = datetime.datetime.strptime(\"2011-12-31\", \"%Y-%m-%d\")\n",
    "\n",
    "print(\"min_time:\", min_time)\n",
    "print(\"max_time:\", max_time)"
   ]
  },
  {
   "cell_type": "code",
   "execution_count": null,
   "metadata": {},
   "outputs": [],
   "source": [
    "# --- input\n",
    "# intervals for plotting (in days)\n",
    "interval_in_days = 10\n",
    "# list of ethnicities\n",
    "sel_ethnicity = [\"WBI\", \"WHO\"]\n",
    "\n",
    "# Population (total, for selected ethnicities, gender)\n",
    "total_population = len(pop)\n",
    "total_population_ETH = len(pop[pop[\"ethnicity\"].isin(sel_ethnicity)])\n",
    "total_population_male = len(pop[pop[\"sex\"] == 1])\n",
    "total_population_female = len(pop[pop[\"sex\"] == 2])\n",
    "\n",
    "time_axis = []\n",
    "population_axis = []\n",
    "population_ETH_axis = []\n",
    "population_M_axis = []\n",
    "population_F_axis = []\n",
    "\n",
    "curr_time = datetime.datetime.strptime(min_time, \"%Y-%m-%d\")\n",
    "while curr_time <= max_time:\n",
    "    time_axis.append(curr_time)\n",
    "    \n",
    "    # dead population until current time (changes in the while loop)\n",
    "    pop_dead = pop[pop[\"exit_time\"] <= curr_time.strftime(\"%Y-%m-%d\")]\n",
    "    \n",
    "    num_dead_population = total_population - len(pop_dead)\n",
    "    population_axis.append(num_dead_population)\n",
    "    \n",
    "    num_dead_population_eth = total_population_ETH - len(pop_dead[pop_dead[\"ethnicity\"].isin(sel_ethnicity)])\n",
    "    population_ETH_axis.append(num_dead_population_eth)\n",
    "    \n",
    "    num_dead_male = total_population_male - len(pop_dead[pop_dead[\"sex\"] == 1])\n",
    "    population_M_axis.append(num_dead_male)\n",
    "    \n",
    "    num_dead_female = total_population_female - len(pop_dead[pop_dead[\"sex\"] == 2])\n",
    "    population_F_axis.append(num_dead_female)\n",
    "    \n",
    "    # go to next time, according to the selected interval_in_days\n",
    "    curr_time = datetime.datetime.strptime(curr_time.strftime(\"%Y-%m-%d\"), \"%Y-%m-%d\")\n",
    "    curr_time += datetime.timedelta(days=interval_in_days)"
   ]
  },
  {
   "cell_type": "code",
   "execution_count": null,
   "metadata": {},
   "outputs": [],
   "source": [
    "from pandas.plotting import register_matplotlib_converters\n",
    "# Population (total)\n",
    "plt.figure(figsize=(15, 10))\n",
    "plt.plot(time_axis, population_axis, \n",
    "         c='k', lw=4, marker=\"o\")\n",
    "plt.xlabel(\"Time\", size=32)\n",
    "plt.ylabel(\"Population\", size=32)\n",
    "plt.xticks(size=24, rotation=90)\n",
    "plt.yticks(size=24)\n",
    "plt.grid()\n",
    "plt.show()"
   ]
  },
  {
   "cell_type": "code",
   "execution_count": null,
   "metadata": {},
   "outputs": [],
   "source": [
    "# Population (gender)\n",
    "plt.figure(figsize=(15, 10))\n",
    "plt.plot(time_axis, population_M_axis, \n",
    "         c='k', lw=4, marker=\"o\", \n",
    "         label=\"Male\"\n",
    "        )\n",
    "plt.plot(time_axis, population_F_axis, \n",
    "         c='r', lw=4, marker=\"o\",\n",
    "         label=\"Female\"\n",
    "        )\n",
    "plt.xlabel(\"Time\", size=32)\n",
    "plt.ylabel(\"Population\", size=32)\n",
    "plt.xticks(size=24, rotation=90)\n",
    "plt.yticks(size=24)\n",
    "plt.grid()\n",
    "plt.legend(fontsize=24)\n",
    "plt.show()"
   ]
  },
  {
   "cell_type": "code",
   "execution_count": null,
   "metadata": {},
   "outputs": [],
   "source": [
    "# Population (ethnicity)\n",
    "plt.figure(figsize=(15, 10))\n",
    "plt.plot(time_axis, population_ETH_axis, \n",
    "         c='k', lw=4, marker=\"o\", \n",
    "         label=sel_ethnicity\n",
    "        )\n",
    "plt.xlabel(\"Time\", size=32)\n",
    "plt.ylabel(\"Population\", size=32)\n",
    "plt.xticks(size=24, rotation=90)\n",
    "plt.yticks(size=24)\n",
    "plt.grid()\n",
    "plt.legend(fontsize=24)\n",
    "plt.show()"
   ]
  },
  {
   "cell_type": "code",
   "execution_count": null,
   "metadata": {},
   "outputs": [],
   "source": [
    "# only dead population\n",
    "pop_dead = pop[pop[\"alive\"] == \"dead\"]"
   ]
  },
  {
   "cell_type": "code",
   "execution_count": null,
   "metadata": {},
   "outputs": [],
   "source": [
    "series2plot = pop_dead['ethnicity'].value_counts() / pop[\"ethnicity\"].value_counts() * 100.\n",
    "indx = range(len(series2plot))\n",
    "\n",
    "plt.figure(figsize=(15, 10))\n",
    "plt.bar(indx, series2plot, color='k')\n",
    "\n",
    "plt.xticks(indx, series2plot.index, size=24)\n",
    "plt.yticks(size=24)\n",
    "plt.xlabel(\"Ethnicity\", size=32)\n",
    "plt.ylabel(\"% of group population\", size=32)\n",
    "\n",
    "plt.grid()\n",
    "#plt.legend(fontsize=24)\n",
    "plt.show()"
   ]
  },
  {
   "cell_type": "code",
   "execution_count": null,
   "metadata": {},
   "outputs": [],
   "source": [
    "series2plot = pop_dead['ethnicity'].value_counts() / len(pop_dead[\"ethnicity\"]) * 100.\n",
    "indx = range(len(series2plot))\n",
    "\n",
    "plt.figure(figsize=(15, 10))\n",
    "plt.bar(indx, series2plot, color='k')\n",
    "\n",
    "plt.xticks(indx, series2plot.index, size=24)\n",
    "plt.yticks(size=24)\n",
    "plt.xlabel(\"Ethnicity\", size=32)\n",
    "plt.ylabel(\"%\", size=32)\n",
    "\n",
    "plt.grid()\n",
    "#plt.legend(fontsize=24)\n",
    "plt.show()"
   ]
  },
  {
   "cell_type": "code",
   "execution_count": null,
   "metadata": {},
   "outputs": [],
   "source": [
    "series2plot = pop_dead['sex'].value_counts() / len(pop_dead[\"sex\"]) * 100.\n",
    "indx = range(len(series2plot))\n",
    "\n",
    "plt.figure(figsize=(15, 10))\n",
    "plt.bar(indx, series2plot, color='k')\n",
    "\n",
    "plt.xticks(indx, series2plot.index, size=24)\n",
    "plt.yticks(size=24)\n",
    "plt.xlabel(\"Gender\", size=32)\n",
    "plt.ylabel(\"%\", size=32)\n",
    "\n",
    "plt.grid()\n",
    "#plt.legend(fontsize=24)\n",
    "plt.show()"
   ]
  },
  {
   "cell_type": "code",
   "execution_count": null,
   "metadata": {
    "scrolled": true
   },
   "outputs": [],
   "source": [
    "plt.figure(figsize=(15, 10))\n",
    "\n",
    "pop_dead[\"exit_time\"].hist(bins=20, \n",
    "                           rwidth=0.9, \n",
    "                           color='k',\n",
    "                           align='left'\n",
    "                          )\n",
    "plt.xlabel(\"Time\", size=32)\n",
    "plt.ylabel(\"Mortality\", size=32)\n",
    "plt.xticks(size=24, rotation=90)\n",
    "plt.yticks(size=24)\n",
    "#plt.legend(fontsize=24)\n",
    "plt.show()"
   ]
  },
  {
   "cell_type": "code",
   "execution_count": null,
   "metadata": {},
   "outputs": [],
   "source": [
    "plt.figure(figsize=(15, 10))\n",
    "\n",
    "pop_dead[\"age\"].hist(bins=range(0, 100, 5), \n",
    "                     rwidth=0.9, \n",
    "                     color='k',\n",
    "                     align='left'\n",
    "                    )\n",
    "plt.xlabel(\"Age\", size=32)\n",
    "plt.ylabel(\"Mortality\", size=32)\n",
    "plt.xticks(size=24)\n",
    "plt.yticks(size=24)\n",
    "#plt.legend(fontsize=24)\n",
    "plt.show()"
   ]
  },
  {
   "cell_type": "markdown",
   "metadata": {},
   "source": [
    "## Fertility"
   ]
  },
  {
   "cell_type": "code",
   "execution_count": null,
   "metadata": {},
   "outputs": [],
   "source": [
    "pop_births = pop[pop['parent_id']!= -1]"
   ]
  },
  {
   "cell_type": "markdown",
   "metadata": {},
   "source": [
    "### Ethnicity of new births"
   ]
  },
  {
   "cell_type": "code",
   "execution_count": null,
   "metadata": {},
   "outputs": [],
   "source": [
    "series2plot_births = pop_births['ethnicity'].value_counts() / len(pop_births[\"ethnicity\"]) * 100.\n",
    "indx = range(len(series2plot_births))\n",
    "\n",
    "plt.figure(figsize=(15, 10))\n",
    "plt.bar(indx, series2plot_births, color='k')\n",
    "\n",
    "plt.xticks(indx, series2plot_births.index, size=24)\n",
    "plt.yticks(size=24)\n",
    "plt.xlabel(\"Ethnicity\", size=32)\n",
    "plt.ylabel(\"%\", size=32)\n",
    "\n",
    "plt.grid()\n",
    "#plt.legend(fontsize=24)\n",
    "plt.show()"
   ]
  },
  {
   "cell_type": "code",
   "execution_count": null,
   "metadata": {},
   "outputs": [],
   "source": [
    "plt.figure(figsize=(15, 10))\n",
    "\n",
    "pop_births[\"entrance_time\"].hist(bins=20, \n",
    "                           rwidth=0.9, \n",
    "                           color='k',\n",
    "                           align='left'\n",
    "                          )\n",
    "plt.xlabel(\"Time\", size=32)\n",
    "plt.ylabel(\"Born babies\", size=32)\n",
    "plt.xticks(size=24, rotation=90)\n",
    "plt.yticks(size=24)\n",
    "#plt.legend(fontsize=24)\n",
    "plt.show()"
   ]
  },
  {
   "cell_type": "markdown",
   "metadata": {},
   "source": [
    "### Age of mothers"
   ]
  },
  {
   "cell_type": "code",
   "execution_count": null,
   "metadata": {},
   "outputs": [],
   "source": [
    "plt.figure(figsize=(15, 10))\n",
    "\n",
    "pop.iloc[pop_births[\"parent_id\"]][\"age\"].hist(bins=range(0, 100, 5), \n",
    "                     rwidth=0.9, \n",
    "                     color='k',\n",
    "                     align='left'\n",
    "                    )\n",
    "plt.xlabel(\"Age\", size=32)\n",
    "plt.ylabel(\"Frequency\", size=32)\n",
    "plt.xticks(size=24)\n",
    "plt.yticks(size=24)\n",
    "\n",
    "#plt.legend(fontsize=24)\n",
    "plt.show()"
   ]
  },
  {
   "cell_type": "markdown",
   "metadata": {},
   "source": [
    "## Immigration"
   ]
  },
  {
   "cell_type": "code",
   "execution_count": null,
   "metadata": {},
   "outputs": [],
   "source": [
    "# only immigrants\n",
    "pop_immig = pop[pop[\"immigrated\"] =='Yes']"
   ]
  },
  {
   "cell_type": "code",
   "execution_count": null,
   "metadata": {},
   "outputs": [],
   "source": [
    "series2plot = pop_immig['ethnicity'].value_counts() / pop[\"ethnicity\"].value_counts() * 100.\n",
    "indx = range(len(series2plot))\n",
    "\n",
    "plt.figure(figsize=(15, 10))\n",
    "plt.bar(indx, series2plot, color='k')\n",
    "\n",
    "plt.xticks(indx, series2plot.index, size=24)\n",
    "plt.yticks(size=24)\n",
    "plt.xlabel(\"Ethnicity\", size=32)\n",
    "plt.ylabel(\"% of group population\", size=32)\n",
    "\n",
    "plt.grid()\n",
    "#plt.legend(fontsize=24)\n",
    "plt.show()"
   ]
  },
  {
   "cell_type": "code",
   "execution_count": null,
   "metadata": {},
   "outputs": [],
   "source": [
    "series2plot = pop_immig['ethnicity'].value_counts() / len(pop_immig[\"ethnicity\"]) * 100.\n",
    "indx = range(len(series2plot))\n",
    "\n",
    "plt.figure(figsize=(15, 10))\n",
    "plt.bar(indx, series2plot, color='k')\n",
    "\n",
    "plt.xticks(indx, series2plot.index, size=24)\n",
    "plt.yticks(size=24)\n",
    "plt.xlabel(\"Ethnicity\", size=32)\n",
    "plt.ylabel(\"% of total population\", size=32)\n",
    "\n",
    "plt.grid()\n",
    "#plt.legend(fontsize=24)\n",
    "plt.show()"
   ]
  },
  {
   "cell_type": "code",
   "execution_count": null,
   "metadata": {},
   "outputs": [],
   "source": [
    "series2plot = pop_immig['sex'].value_counts() / len(pop_immig[\"sex\"]) * 100.\n",
    "indx = range(len(series2plot))\n",
    "\n",
    "plt.figure(figsize=(15, 10))\n",
    "plt.bar(indx, series2plot, color='k')\n",
    "\n",
    "plt.xticks(indx, series2plot.index, size=24)\n",
    "plt.yticks(size=24)\n",
    "plt.xlabel(\"Gender\", size=32)\n",
    "plt.ylabel(\"%\", size=32)\n",
    "\n",
    "plt.grid()\n",
    "#plt.legend(fontsize=24)\n",
    "plt.show()"
   ]
  },
  {
   "cell_type": "code",
   "execution_count": null,
   "metadata": {},
   "outputs": [],
   "source": [
    "plt.figure(figsize=(15, 10))\n",
    "\n",
    "pop_immig[\"entrance_time\"].hist(bins=int((365+10)/10), \n",
    "                           rwidth=0.9, \n",
    "                           color='k',\n",
    "                           align='left'\n",
    "                          )\n",
    "plt.xlabel(\"Time\", size=32)\n",
    "plt.ylabel(\"Immigration\", size=32)\n",
    "plt.xticks(size=24, rotation=90)\n",
    "plt.yticks(size=24)\n",
    "#plt.legend(fontsize=24)\n",
    "plt.show()"
   ]
  },
  {
   "cell_type": "code",
   "execution_count": null,
   "metadata": {},
   "outputs": [],
   "source": [
    "#min_time = pop[\"entrance_time\"].min().strftime(\"%Y-%m-%d\")\n",
    "min_time = \"2011-01-01\"\n",
    "max_time = datetime.datetime.strptime(\"2012-01-01\", \"%Y-%m-%d\")\n",
    "\n",
    "print(\"min_time:\", min_time)\n",
    "print(\"max_time:\", max_time)"
   ]
  },
  {
   "cell_type": "code",
   "execution_count": null,
   "metadata": {},
   "outputs": [],
   "source": [
    "# --- input\n",
    "# intervals for plotting (in days)\n",
    "interval_in_days = 10\n",
    "# list of ethnicities\n",
    "sel_ethnicity = [\"WBI\", \"WHO\"]\n",
    "\n",
    "time_axis = []\n",
    "curr_pop_axis = []\n",
    "left_pop_axis = []\n",
    "dead_pop_axis = []\n",
    "immg_pop_axis = []\n",
    "dead_immg_pop_axis = []\n",
    "emig_pop_axis = []\n",
    "new_babies_axis = []\n",
    "avg_age_axis = []\n",
    "std_age_axis = []\n",
    "avg_age_adult_axis = []\n",
    "std_age_adult_axis = []\n",
    "pop_M_axis = []\n",
    "pop_F_axis = []\n",
    "pop_ETH_axis = []\n",
    "\n",
    "curr_time = datetime.datetime.strptime(min_time, \"%Y-%m-%d\")\n",
    "while curr_time <= max_time:\n",
    "    time_axis.append(curr_time)\n",
    "    \n",
    "    curr_pop = pop[pop[\"entrance_time\"] <= curr_time.strftime(\"%Y-%m-%d\")]\n",
    "    # dead population until current time (changes in the while loop)\n",
    "    left_pop = curr_pop[curr_pop[\"exit_time\"] <= curr_time.strftime(\"%Y-%m-%d\")]\n",
    "    dead_pop = left_pop[left_pop[\"emigrated\"] != \"Yes\"]\n",
    "    \n",
    "    immg_pop = curr_pop[curr_pop[\"immigrated\"] == \"Yes\"]\n",
    "    dead_immg_pop = immg_pop[immg_pop[\"exit_time\"] <= curr_time.strftime(\"%Y-%m-%d\")]\n",
    "    emig_pop = curr_pop[curr_pop[\"emigrated\"] == \"Yes\"]\n",
    "    new_babies = curr_pop[curr_pop[\"parent_id\"] != -1]\n",
    "    \n",
    "    curr_alive_pop = curr_pop[curr_pop[\"alive\"] == \"alive\"]\n",
    "    curr_alive_adult_pop = curr_alive_pop[curr_alive_pop[\"age\"] >= 20.]\n",
    "    \n",
    "    curr_pop_axis.append(len(curr_pop))\n",
    "    left_pop_axis.append(len(left_pop))\n",
    "    dead_pop_axis.append(len(dead_pop))\n",
    "    immg_pop_axis.append(len(immg_pop))\n",
    "    dead_immg_pop_axis.append(len(dead_immg_pop))\n",
    "    emig_pop_axis.append(len(emig_pop))\n",
    "    new_babies_axis.append(len(new_babies))\n",
    "    avg_age_axis.append(curr_alive_pop[\"age\"].mean())\n",
    "    std_age_axis.append(curr_alive_pop[\"age\"].std())\n",
    "    avg_age_adult_axis.append(curr_alive_adult_pop[\"age\"].mean())\n",
    "    std_age_adult_axis.append(curr_alive_adult_pop[\"age\"].std())\n",
    "    \n",
    "    curr_pop_male = len(curr_pop[curr_pop[\"sex\"] == 1])\n",
    "    pop_M = curr_pop_male - len(left_pop[left_pop[\"sex\"] == 1])\n",
    "    pop_M_axis.append(pop_M)\n",
    "    \n",
    "    curr_pop_female = len(curr_pop[curr_pop[\"sex\"] == 2])\n",
    "    pop_F = curr_pop_female - len(left_pop[left_pop[\"sex\"] == 2])\n",
    "    pop_F_axis.append(pop_F)\n",
    "    \n",
    "    curr_pop_eth = len(curr_pop[curr_pop[\"ethnicity\"].isin(sel_ethnicity)])\n",
    "    current_alive_population_eth = curr_pop_eth - len(left_pop[left_pop[\"ethnicity\"].isin(sel_ethnicity)])\n",
    "    pop_ETH_axis.append(current_alive_population_eth)\n",
    "    \n",
    "    # go to next time, according to the selected interval_in_days\n",
    "    curr_time = datetime.datetime.strptime(curr_time.strftime(\"%Y-%m-%d\"), \"%Y-%m-%d\")\n",
    "    curr_time += datetime.timedelta(days=interval_in_days)"
   ]
  },
  {
   "cell_type": "code",
   "execution_count": null,
   "metadata": {},
   "outputs": [],
   "source": [
    "from pandas.plotting import register_matplotlib_converters\n"
   ]
  },
  {
   "cell_type": "code",
   "execution_count": null,
   "metadata": {},
   "outputs": [],
   "source": [
    "curr_pop_axis = np.array(curr_pop_axis)\n",
    "left_pop_axis = np.array(left_pop_axis)\n",
    "dead_pop_axis = np.array(dead_pop_axis)\n",
    "immg_pop_axis = np.array(immg_pop_axis)\n",
    "dead_immg_pop_axis = np.array(dead_immg_pop_axis)\n",
    "emig_pop_axis = np.array(emig_pop_axis)\n",
    "new_babies_axis = np.array(new_babies_axis)\n",
    "avg_age_axis = np.array(avg_age_axis)\n",
    "std_age_axis = np.array(std_age_axis)"
   ]
  },
  {
   "cell_type": "code",
   "execution_count": null,
   "metadata": {},
   "outputs": [],
   "source": [
    "plt.figure(figsize=(15, 10))\n",
    "\n",
    "plt.plot(time_axis, curr_pop_axis - left_pop_axis, \n",
    "         c='k', lw=4, \n",
    "         #marker=\"o\",\n",
    "         label=\"Total\"\n",
    "        )\n",
    "\n",
    "plt.plot(time_axis, curr_pop_axis - dead_pop_axis - immg_pop_axis, \n",
    "         c='k', lw=4, ls='--', \n",
    "         #marker=\"o\",\n",
    "         label=\"Total - immigrants\"\n",
    "        )\n",
    "\n",
    "plt.xlabel(\"Time\", size=32)\n",
    "plt.ylabel(\"Population\", size=32)\n",
    "plt.xticks(size=24, rotation=90)\n",
    "plt.yticks(size=24)\n",
    "plt.grid()\n",
    "plt.legend(fontsize=24)\n",
    "plt.show()"
   ]
  },
  {
   "cell_type": "markdown",
   "metadata": {},
   "source": [
    "\n",
    "## Emigration\n"
   ]
  },
  {
   "cell_type": "code",
   "execution_count": null,
   "metadata": {},
   "outputs": [],
   "source": [
    "plt.figure(figsize=(15, 10))\n",
    "\n",
    "# XXX Emigrated population has very high values in the first time step\n",
    "plt.plot(time_axis, emig_pop_axis - emig_pop_axis[0], \n",
    "         c='k', lw=4\n",
    "         #marker=\"o\"\n",
    "        )\n",
    "plt.xlabel(\"Time\", size=32)\n",
    "plt.ylabel(\"Emigrated\", size=32)\n",
    "plt.xticks(size=24, rotation=90)\n",
    "plt.yticks(size=24)\n",
    "plt.grid()\n",
    "plt.show()"
   ]
  },
  {
   "cell_type": "code",
   "execution_count": null,
   "metadata": {},
   "outputs": [],
   "source": [
    "# Population (total)\n",
    "plt.figure(figsize=(15, 10))\n",
    "\n",
    "plt.plot(time_axis, new_babies_axis, \n",
    "         c='k', lw=4,\n",
    "         #marker=\"o\"\n",
    "         label=\"Newborns\"\n",
    "        )\n",
    "\n",
    "plt.plot(time_axis, immg_pop_axis, \n",
    "         c='k', lw=4, ls='--',\n",
    "         #marker=\"o\"\n",
    "         label=\"Immigrated\"\n",
    "        )\n",
    "\n",
    "plt.plot(time_axis, dead_pop_axis, \n",
    "         c='r', lw=4, \n",
    "         #marker=\"o\"\n",
    "         label=\"Dead\"\n",
    "        )\n",
    "\n",
    "plt.plot(time_axis, emig_pop_axis - emig_pop_axis[0], \n",
    "         c='r', lw=4, ls='--',\n",
    "         #marker=\"o\"\n",
    "         label=\"Emigrated\"\n",
    "        )\n",
    "\n",
    "plt.xlabel(\"Time\", size=32)\n",
    "plt.ylabel(\"Population\", size=32)\n",
    "plt.xticks(size=24, rotation=90)\n",
    "plt.yticks(size=24)\n",
    "plt.grid()\n",
    "plt.legend(fontsize=24)\n",
    "plt.show()"
   ]
  },
  {
   "cell_type": "markdown",
   "metadata": {},
   "source": [
    "## Internal migration"
   ]
  },
  {
   "cell_type": "code",
   "execution_count": null,
   "metadata": {},
   "outputs": [],
   "source": [
    "migrant_pool = pop[pop['internal_outmigration'] == 'Yes']\n",
    "migrant_pool.head()"
   ]
  },
  {
   "cell_type": "markdown",
   "metadata": {},
   "source": [
    "## Plot results"
   ]
  },
  {
   "cell_type": "code",
   "execution_count": null,
   "metadata": {
    "scrolled": false
   },
   "outputs": [],
   "source": [
    "plt.figure(figsize=(15, 10))\n",
    "\n",
    "migrant_pool[\"age\"].hist(bins=range(0, 100, 5), \n",
    "                     rwidth=0.9, \n",
    "                     color='k',\n",
    "                     align='left'\n",
    "                    )\n",
    "plt.xlabel(\"Age\", size=32)\n",
    "plt.ylabel(\"Internal Migration candidates\", size=32)\n",
    "plt.xticks(size=24)\n",
    "plt.yticks(size=24)\n",
    "#plt.legend(fontsize=24)\n",
    "plt.show()"
   ]
  },
  {
   "cell_type": "code",
   "execution_count": null,
   "metadata": {},
   "outputs": [],
   "source": [
    "series2plot = migrant_pool['ethnicity'].value_counts() / pop[\"ethnicity\"].value_counts() * 100.\n",
    "indx = range(len(series2plot))\n",
    "\n",
    "plt.figure(figsize=(15, 10))\n",
    "plt.bar(indx, series2plot, color='k')\n",
    "\n",
    "plt.xticks(indx, series2plot.index, size=24)\n",
    "plt.yticks(size=24)\n",
    "plt.xlabel(\"Ethnicity\", size=32)\n",
    "plt.ylabel(\"% of group population\", size=32)\n",
    "\n",
    "plt.grid()\n",
    "#plt.legend(fontsize=24)\n",
    "plt.show()"
   ]
  },
  {
   "cell_type": "code",
   "execution_count": null,
   "metadata": {},
   "outputs": [],
   "source": [
    "series2plot = migrant_pool['ethnicity'].value_counts() / len(migrant_pool[\"ethnicity\"]) * 100.\n",
    "indx = range(len(series2plot))\n",
    "\n",
    "plt.figure(figsize=(15, 10))\n",
    "plt.bar(indx, series2plot, color='k')\n",
    "\n",
    "plt.xticks(indx, series2plot.index, size=24)\n",
    "plt.yticks(size=24)\n",
    "plt.xlabel(\"Ethnicity\", size=32)\n",
    "plt.ylabel(\"%\", size=32)\n",
    "\n",
    "plt.grid()\n",
    "#plt.legend(fontsize=24)\n",
    "plt.show()"
   ]
  },
  {
   "cell_type": "code",
   "execution_count": null,
   "metadata": {},
   "outputs": [],
   "source": [
    "series2plot = migrant_pool['sex'].value_counts() / len(migrant_pool[\"sex\"]) * 100.\n",
    "indx = range(len(series2plot))\n",
    "\n",
    "plt.figure(figsize=(15, 10))\n",
    "plt.bar(indx, series2plot, color='k')\n",
    "\n",
    "plt.xticks(indx, series2plot.index, size=24)\n",
    "plt.yticks(size=24)\n",
    "plt.xlabel(\"Gender\", size=32)\n",
    "plt.ylabel(\"%\", size=32)\n",
    "\n",
    "plt.grid()\n",
    "#plt.legend(fontsize=24)\n",
    "plt.show()"
   ]
  },
  {
   "cell_type": "code",
   "execution_count": null,
   "metadata": {},
   "outputs": [],
   "source": [
    "plt.figure(figsize=(15, 10))\n",
    "\n",
    "migrant_pool[\"last_outmigration_time\"].hist(bins=20, \n",
    "                                            rwidth=0.9, \n",
    "                                            color='k',\n",
    "                                            align='left'\n",
    "                                            )\n",
    "plt.xlabel(\"Time\", size=32)\n",
    "plt.ylabel(\"Internal migration\", size=32)\n",
    "plt.xticks(size=24, rotation=90)\n",
    "plt.yticks(size=24)\n",
    "#plt.legend(fontsize=24)\n",
    "plt.show()"
   ]
  },
  {
   "cell_type": "code",
   "execution_count": null,
   "metadata": {},
   "outputs": [],
   "source": [
    "#min_time = pop[\"entrance_time\"].min().strftime(\"%Y-%m-%d\")\n",
    "min_time = \"2011-01-01\"\n",
    "max_time = datetime.datetime.strptime(\"2011-12-31\", \"%Y-%m-%d\")\n",
    "\n",
    "print(\"min_time:\", min_time)\n",
    "print(\"max_time:\", max_time)"
   ]
  },
  {
   "cell_type": "code",
   "execution_count": null,
   "metadata": {},
   "outputs": [],
   "source": [
    "# --- input\n",
    "# intervals for plotting (in days)\n",
    "interval_in_days = 10\n",
    "# list of ethnicities\n",
    "sel_ethnicity = [\"WBI\", \"WHO\"]\n",
    "\n",
    "# Population (total, for selected ethnicities, gender)\n",
    "total_population = len(pop)\n",
    "total_population_ETH = len(pop[pop[\"ethnicity\"].isin(sel_ethnicity)])\n",
    "total_population_male = len(pop[pop[\"sex\"] == 1])\n",
    "total_population_female = len(pop[pop[\"sex\"] == 2])\n",
    "\n",
    "time_axis = []\n",
    "population_axis = []\n",
    "population_ETH_axis = []\n",
    "population_M_axis = []\n",
    "population_F_axis = []\n",
    "\n",
    "curr_time = datetime.datetime.strptime(min_time, \"%Y-%m-%d\")\n",
    "while curr_time <= max_time:\n",
    "    time_axis.append(curr_time)\n",
    "    \n",
    "    # dead population until current time (changes in the while loop)\n",
    "    pop_dead = pop[pop[\"last_outmigration_time\"] <= curr_time.strftime(\"%Y-%m-%d\")]\n",
    "    \n",
    "    num_dead_population = total_population - len(pop_dead)\n",
    "    population_axis.append(num_dead_population)\n",
    "    \n",
    "    num_dead_population_eth = total_population_ETH - len(pop_dead[pop_dead[\"ethnicity\"].isin(sel_ethnicity)])\n",
    "    population_ETH_axis.append(num_dead_population_eth)\n",
    "    \n",
    "    num_dead_male = total_population_male - len(pop_dead[pop_dead[\"sex\"] == 1])\n",
    "    population_M_axis.append(num_dead_male)\n",
    "    \n",
    "    num_dead_female = total_population_female - len(pop_dead[pop_dead[\"sex\"] == 2])\n",
    "    population_F_axis.append(num_dead_female)\n",
    "    \n",
    "    # go to next time, according to the selected interval_in_days\n",
    "    curr_time = datetime.datetime.strptime(curr_time.strftime(\"%Y-%m-%d\"), \"%Y-%m-%d\")\n",
    "    curr_time += datetime.timedelta(days=interval_in_days)"
   ]
  },
  {
   "cell_type": "code",
   "execution_count": null,
   "metadata": {},
   "outputs": [],
   "source": [
    "from pandas.plotting import register_matplotlib_converters\n",
    "register_matplotlib_converters()"
   ]
  },
  {
   "cell_type": "code",
   "execution_count": null,
   "metadata": {},
   "outputs": [],
   "source": [
    "# Population (total)\n",
    "plt.figure(figsize=(15, 10))\n",
    "plt.plot(time_axis, population_axis, \n",
    "         c='k', lw=4, marker=\"o\")\n",
    "plt.xlabel(\"Time\", size=32)\n",
    "plt.ylabel(\"Population\", size=32)\n",
    "plt.xticks(size=24, rotation=90)\n",
    "plt.yticks(size=24)\n",
    "plt.grid()\n",
    "plt.show()"
   ]
  },
  {
   "cell_type": "code",
   "execution_count": null,
   "metadata": {},
   "outputs": [],
   "source": [
    "# Population (gender)\n",
    "plt.figure(figsize=(15, 10))\n",
    "plt.plot(time_axis, population_M_axis, \n",
    "         c='k', lw=4, marker=\"o\", \n",
    "         label=\"Male\"\n",
    "        )\n",
    "plt.plot(time_axis, population_F_axis, \n",
    "         c='r', lw=4, marker=\"o\",\n",
    "         label=\"Female\"\n",
    "        )\n",
    "plt.xlabel(\"Time\", size=32)\n",
    "plt.ylabel(\"Population\", size=32)\n",
    "plt.xticks(size=24, rotation=90)\n",
    "plt.yticks(size=24)\n",
    "plt.grid()\n",
    "plt.legend(fontsize=24)\n",
    "plt.show()"
   ]
  },
  {
   "cell_type": "code",
   "execution_count": null,
   "metadata": {},
   "outputs": [],
   "source": []
  }
 ],
 "metadata": {
  "kernelspec": {
   "display_name": "Python 3",
   "language": "python",
   "name": "python3"
  },
  "language_info": {
   "codemirror_mode": {
    "name": "ipython",
    "version": 3
   },
   "file_extension": ".py",
   "mimetype": "text/x-python",
   "name": "python",
   "nbconvert_exporter": "python",
   "pygments_lexer": "ipython3",
   "version": "3.7.6"
  }
 },
 "nbformat": 4,
 "nbformat_minor": 4
}
